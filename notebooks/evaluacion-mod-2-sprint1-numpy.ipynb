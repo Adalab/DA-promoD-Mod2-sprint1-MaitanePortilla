{
 "cells": [
  {
   "attachments": {},
   "cell_type": "markdown",
   "metadata": {},
   "source": [
    "# Evaluación I Módulo 2 (sprint 1)\n",
    "## Ejercicios de NumPy\n",
    "---\n",
    "1. Importa la librería de NumPy."
   ]
  },
  {
   "cell_type": "code",
   "execution_count": 1,
   "metadata": {},
   "outputs": [],
   "source": [
    "import numpy as np"
   ]
  },
  {
   "attachments": {},
   "cell_type": "markdown",
   "metadata": {},
   "source": [
    "2. Crea un array de 1 dimension y 10 elementos."
   ]
  },
  {
   "cell_type": "code",
   "execution_count": 2,
   "metadata": {},
   "outputs": [
    {
     "name": "stdout",
     "output_type": "stream",
     "text": [
      "El array creado es: [10 11 21 19 27 27 23 17 16 14] y tiene 10 elementos\n"
     ]
    }
   ],
   "source": [
    "arr10 = np.random.randint(10,30, (10))\n",
    "print(f'El array creado es: {arr10} y tiene {len(arr10)} elementos')"
   ]
  },
  {
   "attachments": {},
   "cell_type": "markdown",
   "metadata": {},
   "source": [
    "3. Reemplaza todos los números impares por el valor \"impar\" y los pares por \"par\". Para hacer esto os tendréis que crear un array nuevo donde vayáis añadiendo los valores nuevos."
   ]
  },
  {
   "cell_type": "code",
   "execution_count": 3,
   "metadata": {},
   "outputs": [
    {
     "name": "stdout",
     "output_type": "stream",
     "text": [
      "El array vacío es: \n",
      "[None None None None None None None None None None]\n"
     ]
    }
   ],
   "source": [
    "# una opción sería crear un array vacío y rellenarlo iterando\n",
    "arr_new = np.empty_like(arr10, dtype=object)\n",
    "print(f'El array vacío es: \\n{arr_new}')"
   ]
  },
  {
   "cell_type": "code",
   "execution_count": 4,
   "metadata": {},
   "outputs": [
    {
     "name": "stdout",
     "output_type": "stream",
     "text": [
      "El array resultado de la sustitución es: \n",
      "['par' 'impar' 'impar' 'impar' 'impar' 'impar' 'impar' 'impar' 'par' 'par']\n"
     ]
    }
   ],
   "source": [
    "contador = 0\n",
    "for i in arr10:\n",
    "    if i % 2 == 0:\n",
    "        arr_new[contador] = 'par'\n",
    "    else:\n",
    "        arr_new[contador] = 'impar'\n",
    "    contador += 1\n",
    "print(f'El array resultado de la sustitución es: \\n{arr_new}')"
   ]
  },
  {
   "cell_type": "code",
   "execution_count": 5,
   "metadata": {},
   "outputs": [
    {
     "name": "stdout",
     "output_type": "stream",
     "text": [
      "El array resultado de la sustitución es: \n",
      "['par' 'impar' 'impar' 'impar' 'impar' 'impar' 'impar' 'impar' 'par' 'par']\n"
     ]
    }
   ],
   "source": [
    "# otra opción es hacer una copia del array original y sustituir sobre la copia los valores con el método np.where()\n",
    "arr_new2 = arr10.copy()\n",
    "arr_new2 = np.where(arr_new2 % 2 != 0, 'impar', 'par') \n",
    "print(f'El array resultado de la sustitución es: \\n{arr_new2}')"
   ]
  },
  {
   "attachments": {},
   "cell_type": "markdown",
   "metadata": {},
   "source": [
    "4. Cambiad la forma del array del ejercicio 3 a un array de 2 filas y 5 columnas."
   ]
  },
  {
   "cell_type": "code",
   "execution_count": 6,
   "metadata": {},
   "outputs": [
    {
     "name": "stdout",
     "output_type": "stream",
     "text": [
      "El array creado es: \n",
      "[['par' 'impar' 'impar' 'impar' 'impar']\n",
      " ['impar' 'impar' 'impar' 'par' 'par']] \n",
      "Tiene 2 filas y 5 columnas\n"
     ]
    }
   ],
   "source": [
    "arr_2_5 = np.reshape(arr_new, (2,5))\n",
    "print(f'El array creado es: \\n{arr_2_5} \\nTiene {arr_2_5.shape[0]} filas y {arr_2_5.shape[1]} columnas')"
   ]
  },
  {
   "attachments": {},
   "cell_type": "markdown",
   "metadata": {},
   "source": [
    "5. Extrae los elementos comunes de los siguientes arrays  \n",
    "    ```python\n",
    "    array1 = np.array([1,2,3,2,3,4,3,4,5,6])\n",
    "    array2 = np.array([7,2,10,2,7,4,9,4,9,8])\n",
    "    ```"
   ]
  },
  {
   "cell_type": "code",
   "execution_count": 7,
   "metadata": {},
   "outputs": [
    {
     "name": "stdout",
     "output_type": "stream",
     "text": [
      "El array1 es: [1 2 3 2 3 4 3 4 5 6]\n",
      "El array2 es: [ 7  2 10  2  7  4  9  4  9  8]\n"
     ]
    }
   ],
   "source": [
    "# creamos los arrays y los printeamos:\n",
    "array1 = np.array([1,2,3,2,3,4,3,4,5,6])\n",
    "array2 = np.array([7,2,10,2,7,4,9,4,9,8])\n",
    "print(f'El array1 es: {array1}')\n",
    "print(f'El array2 es: {array2}')"
   ]
  },
  {
   "cell_type": "code",
   "execution_count": 8,
   "metadata": {},
   "outputs": [
    {
     "name": "stdout",
     "output_type": "stream",
     "text": [
      "Los elenetos comunes son [2 4]. \n",
      "La primera posición en la que aparecen en el array1 es: [1 5]. \n",
      "La primera posición en la que aparecen en el array2 es: [1 5]\n"
     ]
    }
   ],
   "source": [
    "# obtenemos los elementos comunes y sus índices:\n",
    "comunes = np.intersect1d(array1, array2, return_indices=True) \n",
    "print(f'Los elenetos comunes son {comunes[0]}. \\nLa primera posición en la que aparecen en el array1 es: {comunes[1]}. \\nLa primera posición en la que aparecen en el array2 es: {comunes[2]}')"
   ]
  },
  {
   "attachments": {},
   "cell_type": "markdown",
   "metadata": {},
   "source": [
    "6. Extraed los elementos que están en el array1 pero no en el array2."
   ]
  },
  {
   "cell_type": "code",
   "execution_count": 9,
   "metadata": {},
   "outputs": [
    {
     "name": "stdout",
     "output_type": "stream",
     "text": [
      "Los elementos que están en el array1 pero no en el array2 son: [1 3 5 6]\n"
     ]
    }
   ],
   "source": [
    "solo_arr1 = np.setdiff1d(array1, array2)\n",
    "print(f'Los elementos que están en el array1 pero no en el array2 son: {solo_arr1}')"
   ]
  },
  {
   "attachments": {},
   "cell_type": "markdown",
   "metadata": {},
   "source": [
    "7. Extraed las posiciones donde tengamos elementos que sean iguales."
   ]
  },
  {
   "cell_type": "code",
   "execution_count": 10,
   "metadata": {},
   "outputs": [
    {
     "name": "stdout",
     "output_type": "stream",
     "text": [
      "Los valores comunes son: [2 4]. A continuación se indican las posiciones que tiene cada valor común en cada uno de los arrays: \n",
      "{'elemento_2_posiciones_en_array1': array([1, 3]), 'elemento_4_posiciones_en_array1': array([5, 7]), 'elemento_2_posiciones_en_array2': array([1, 3]), 'elemento_4_posiciones_en_array2': array([5, 7])}\n"
     ]
    }
   ],
   "source": [
    "# aunque en este caso son pocos elementos por si hubiera más automatizamos la obtención de los resultados en un diccionario:\n",
    "lista = [array1, array2] # metemos los arrays que nos interesan en una lista\n",
    "dicc = {} # creamos un diccionario vaciío para guardar los resultados\n",
    "num_array = 1 # iniciamos el contador de arrays\n",
    "for arr in lista: # iteramos por la lista de arrays\n",
    "    contador = 0 # iniciamos el contador para acceder a la posición de cada elemento común a ambos arrays\n",
    "    for i in comunes[0]:   # iteramos por el array con los elementos comunes\n",
    "        dicc[f'elemento_{i}_posiciones_en_array{num_array}'] = np.where(arr == comunes[0][contador])[0] # buscamos todas las posiciones de cada elemento común dentro de cada array y las añadimos al diccionario\n",
    "        contador += 1\n",
    "    num_array += 1\n",
    "print(f'Los valores comunes son: {comunes[0]}. A continuación se indican las posiciones que tiene cada valor común en cada uno de los arrays: \\n{dicc}')"
   ]
  },
  {
   "attachments": {},
   "cell_type": "markdown",
   "metadata": {},
   "source": [
    "8. Cread un array de 3 filas y 5 columnas, con números enteros del 0 al 50. Una vez creado, extrae los valores que sean menores que 10 y mayores que 40."
   ]
  },
  {
   "cell_type": "code",
   "execution_count": 11,
   "metadata": {},
   "outputs": [
    {
     "name": "stdout",
     "output_type": "stream",
     "text": [
      "El array creado es: \n",
      "[[37  7 35 13 19]\n",
      " [20 21 34 35 25]\n",
      " [15 37 12 44 20]] \n",
      "Tiene 3 filas y 5 columnas\n"
     ]
    }
   ],
   "source": [
    "# creamos el array\n",
    "arr8 = np.random.randint(0,50, (3,5))\n",
    "print(f'El array creado es: \\n{arr8} \\nTiene {arr8.shape[0]} filas y {arr8.shape[1]} columnas')"
   ]
  },
  {
   "cell_type": "code",
   "execution_count": 12,
   "metadata": {},
   "outputs": [
    {
     "name": "stdout",
     "output_type": "stream",
     "text": [
      "Los elementos del array anterior que son menores que 10 o mayores que 40 son: [ 7 44]\n"
     ]
    }
   ],
   "source": [
    "# extraemos los valores menores que 10 o mayores que 40\n",
    "arr8_ext = arr8[(arr8 < 10) | (arr8 > 40)]\n",
    "print(f'Los elementos del array anterior que son menores que 10 o mayores que 40 son: {arr8_ext}')"
   ]
  },
  {
   "attachments": {},
   "cell_type": "markdown",
   "metadata": {},
   "source": [
    "9. Cread un array de 5x3 con números decimales aleatorios entre el 5 y el 10."
   ]
  },
  {
   "cell_type": "code",
   "execution_count": 13,
   "metadata": {},
   "outputs": [
    {
     "name": "stdout",
     "output_type": "stream",
     "text": [
      "El array creado es: \n",
      "[[5.76288788 9.16181973 6.538381  ]\n",
      " [5.32624762 5.6767441  5.80467792]\n",
      " [8.59546251 8.00274453 7.32351848]\n",
      " [6.74613223 8.4038704  8.49396094]\n",
      " [7.27799725 9.88735208 6.52552218]] \n",
      "Tiene 5 filas y 3 columnas y sus elementos son de tipo float64\n"
     ]
    }
   ],
   "source": [
    "arr_float = np.random.uniform(5,10, size=(5,3))\n",
    "print(f'El array creado es: \\n{arr_float} \\nTiene {arr_float.shape[0]} filas y {arr_float.shape[1]} columnas y sus elementos son de tipo {arr_float.dtype}')"
   ]
  },
  {
   "cell_type": "markdown",
   "metadata": {},
   "source": [
    "10. Crea un array de tres dimensiones de 2x4x7 con números entre el 1 y el 20\n",
    "    - Transponed el array para que tenga 4 matrices, 7 filas y 2 columnas"
   ]
  },
  {
   "cell_type": "code",
   "execution_count": 14,
   "metadata": {},
   "outputs": [
    {
     "name": "stdout",
     "output_type": "stream",
     "text": [
      "El array creado es: \n",
      "[[[14 14 12  7 16 12  9]\n",
      "  [ 2  1 19 12 16  4  5]\n",
      "  [ 7 13 19  1  9  9 11]\n",
      "  [ 2  1  4 18 17 16  2]]\n",
      "\n",
      " [[17  4  2  9 15 17  2]\n",
      "  [ 5 16  7  3 17 11 14]\n",
      "  [ 8 12 12 12 19  3  7]\n",
      "  [17 18  1 11  8 14  6]]] \n",
      "Tiene 2 matrices 4 filas y 7 columnas\n"
     ]
    }
   ],
   "source": [
    "# creamos el array con las características solicitadas\n",
    "arr_3d = np.random.randint(1,20, size=(2,4,7))\n",
    "print(f'El array creado es: \\n{arr_3d} \\nTiene {arr_3d.shape[0]} matrices {arr_3d.shape[1]} filas y {arr_3d.shape[2]} columnas')"
   ]
  },
  {
   "cell_type": "code",
   "execution_count": 15,
   "metadata": {},
   "outputs": [
    {
     "name": "stdout",
     "output_type": "stream",
     "text": [
      "El array creado tiene 4 matrices 7 filas y 2 columnas y es el siguiente: \n",
      "[[[14 17]\n",
      "  [14  4]\n",
      "  [12  2]\n",
      "  [ 7  9]\n",
      "  [16 15]\n",
      "  [12 17]\n",
      "  [ 9  2]]\n",
      "\n",
      " [[ 2  5]\n",
      "  [ 1 16]\n",
      "  [19  7]\n",
      "  [12  3]\n",
      "  [16 17]\n",
      "  [ 4 11]\n",
      "  [ 5 14]]\n",
      "\n",
      " [[ 7  8]\n",
      "  [13 12]\n",
      "  [19 12]\n",
      "  [ 1 12]\n",
      "  [ 9 19]\n",
      "  [ 9  3]\n",
      "  [11  7]]\n",
      "\n",
      " [[ 2 17]\n",
      "  [ 1 18]\n",
      "  [ 4  1]\n",
      "  [18 11]\n",
      "  [17  8]\n",
      "  [16 14]\n",
      "  [ 2  6]]]\n"
     ]
    }
   ],
   "source": [
    "# trasponemos el array para que tenga 4 matrices, 7 filas y 2 columnas:\n",
    "arr_3dt = np.transpose(arr_3d, (1,2,0))\n",
    "print(f'El array creado tiene {arr_3dt.shape[0]} matrices {arr_3dt.shape[1]} filas y {arr_3dt.shape[2]} columnas y es el siguiente: \\n{arr_3dt}')"
   ]
  }
 ],
 "metadata": {
  "kernelspec": {
   "display_name": "adalabenv",
   "language": "python",
   "name": "python3"
  },
  "language_info": {
   "codemirror_mode": {
    "name": "ipython",
    "version": 3
   },
   "file_extension": ".py",
   "mimetype": "text/x-python",
   "name": "python",
   "nbconvert_exporter": "python",
   "pygments_lexer": "ipython3",
   "version": "3.9.7"
  },
  "orig_nbformat": 4
 },
 "nbformat": 4,
 "nbformat_minor": 2
}
